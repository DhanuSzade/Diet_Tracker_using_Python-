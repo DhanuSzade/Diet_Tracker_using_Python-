{
  "nbformat": 4,
  "nbformat_minor": 0,
  "metadata": {
    "colab": {
      "provenance": []
    },
    "kernelspec": {
      "name": "python3",
      "display_name": "Python 3"
    },
    "language_info": {
      "name": "python"
    }
  },
  "cells": [
    {
      "cell_type": "code",
      "execution_count": 1,
      "metadata": {
        "colab": {
          "base_uri": "https://localhost:8080/"
        },
        "id": "9tYqw6C2Sxx4",
        "outputId": "77ce10cb-1164-45bb-baed-764bec99b60c"
      },
      "outputs": [
        {
          "output_type": "stream",
          "name": "stdout",
          "text": [
            "How many calories did you have for breakfast? 500\n",
            "How many calories did you have for lunch? 1000\n",
            "How many calories did you have for dinner? 25\n",
            "How many calories did you burn exercising? 600\n",
            "What is your basic metabolic rate? 1200\n",
            "You will lose about 0.5 lbs. per week\n"
          ]
        }
      ],
      "source": [
        "class Diet:\n",
        "    def __init__(self, breakfast_calories, lunch_calories, dinner_calories, exercise_calories, bar):\n",
        "        self.breakfast_calories = breakfast_calories\n",
        "        self.lunch_calories = lunch_calories\n",
        "        self.dinner_calories = dinner_calories\n",
        "        self.exercise_calories = exercise_calories\n",
        "        self.bar = bar\n",
        "\n",
        "    def calorie_deficit(self):\n",
        "        deficit = self.bar + self.exercise_calories - (self.breakfast_calories + self.lunch_calories + self.dinner_calories)\n",
        "        return deficit\n",
        "\n",
        "breakfast_calories = int(input(\"How many calories did you have for breakfast? \"))\n",
        "lunch_calories = int(input(\"How many calories did you have for lunch? \"))\n",
        "dinner_calories = int(input(\"How many calories did you have for dinner? \"))\n",
        "exercise = int(input(\"How many calories did you burn exercising? \"))\n",
        "bar = int(input(\"What is your basic metabolic rate? \"))\n",
        "\n",
        "fitness = Diet(breakfast_calories, lunch_calories, dinner_calories, exercise, bar)\n",
        "weekly_deficit = 7 * fitness.calorie_deficit()\n",
        "\n",
        "if weekly_deficit > 0:\n",
        "    print(\"You will lose about\", round(weekly_deficit / 3600.2, 1), \"lbs. per week\")\n",
        "elif weekly_deficit == 0:\n",
        "    print(\"Your weight will stay the same.\")\n",
        "else:\n",
        "    print(\"You will gain about\", round(-1 * weekly_deficit / 3600.2, 1), \"lbs. per week\")"
      ]
    },
    {
      "cell_type": "code",
      "source": [],
      "metadata": {
        "id": "ktibfTjeTBeA"
      },
      "execution_count": null,
      "outputs": []
    }
  ]
}